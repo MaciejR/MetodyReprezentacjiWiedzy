{
 "cells": [
  {
   "cell_type": "markdown",
   "metadata": {},
   "source": [
    "# Zadania z ontologii RDF\n",
    "\n",
    "# Zadanie dla użytkownika:\n",
    "# 1. Zad1 Dodaj nową klasę 'Cat' jako podklasę 'Mammal'\n",
    "# 2. Zad1 Dodaj instancję kota o imieniu \"Whiskers\" i wieku 2 lata\n",
    "# 3. Zad2 Utwórz relację 'likes' między psami a kotami\n",
    "# 4. Zad2 Napisz zapytanie SPARQL, które wyświetli wszystkie psy, które lubią koty"
   ]
  },
  {
   "cell_type": "code",
   "execution_count": null,
   "metadata": {},
   "outputs": [],
   "source": [
    "from rdflib import Graph, Namespace, Literal, URIRef\n",
    "from rdflib.namespace import RDF, RDFS, OWL, FOAF, XSD"
   ]
  },
  {
   "cell_type": "markdown",
   "metadata": {},
   "source": [
    "## Zadanie 1: Stworzenie i przeszukiwanie prostej ontologii RDF"
   ]
  },
  {
   "cell_type": "code",
   "execution_count": null,
   "metadata": {},
   "outputs": [],
   "source": [
    "# Tworzymy nowy graf RDF\n",
    "\n",
    "\n",
    "# Definiujemy własną przestrzeń nazw\n",
    "\n",
    "\n",
    "# Dodajemy klasy do ontologii\n",
    "\n",
    "# Dodajemy instancje\n"
   ]
  },
  {
   "cell_type": "markdown",
   "metadata": {},
   "source": [
    "## Zadanie 2: Rozszerzenie ontologii o relacje i zapytania SPARQL"
   ]
  },
  {
   "cell_type": "code",
   "execution_count": null,
   "metadata": {},
   "outputs": [],
   "source": [
    "# Rozszerzamy ontologię o nowe klasy i relacje\n",
    "\n",
    "\n",
    "# Dodajemy instancje osób i relacje własności\n",
    "\n",
    "\n",
    "# Wykonujemy zapytanie SPARQL\n",
    "\n",
    "\n",
    "\n",
    "\n",
    "\n"
   ]
  }
 ],
 "metadata": {
  "kernelspec": {
   "display_name": "Python 3",
   "language": "python",
   "name": "python3"
  },
  "language_info": {
   "codemirror_mode": {
    "name": "ipython",
    "version": 3
   },
   "file_extension": ".py",
   "mimetype": "text/x-python",
   "name": "python",
   "nbconvert_exporter": "python",
   "pygments_lexer": "ipython3",
   "version": "3.8.5"
  }
 },
 "nbformat": 4,
 "nbformat_minor": 4
}
