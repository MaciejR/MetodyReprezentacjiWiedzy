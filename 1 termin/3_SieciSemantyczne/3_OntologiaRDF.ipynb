{
  "cells": [
    {
      "cell_type": "markdown",
      "metadata": {},
      "source": [
        "# Zadania z ontologii RDF - System Biblioteczny\n",
        "\n",
        "## Zadania dla użytkownika:\n",
        "\n",
        "### Zadanie 1: Podstawowa struktura biblioteki\n",
        "1. Dodaj klasę 'Book' jako podklasę 'LibraryItem'\n",
        "2. Dodaj instancję książki o tytule \"Władca Pierścieni\", z następującymi właściwościami:\n",
        "   - autor: \"J.R.R. Tolkien\"\n",
        "   - rok wydania: 1954\n",
        "   - ISBN: \"978-0618640157\"\n",
        "3. Dodaj klasę 'Author' i utwórz relację 'hasWritten' między autorem a książką\n",
        "4. Napisz zapytanie SPARQL, które wyświetli wszystkie książki wraz z ich autorami i rokiem wydania\n",
        "\n",
        "### Zadanie 2: System wypożyczeń\n",
        "1. Dodaj klasę 'Reader' (Czytelnik)\n",
        "2. Stwórz relację 'borrowedBy' między książkami a czytelnikami\n",
        "3. Dodaj do relacji wypożyczenia następujące właściwości:\n",
        "   - data wypożyczenia\n",
        "   - planowana data zwrotu\n",
        "4. Napisz zapytanie SPARQL wyświetlające wszystkie aktualnie wypożyczone książki\n"
      ]
    },
    {
      "cell_type": "code",
      "execution_count": null,
      "metadata": {},
      "outputs": [],
      "source": [
        "from rdflib import Graph, Namespace, Literal, URIRef\n",
        "from rdflib.namespace import RDF, RDFS, OWL, FOAF, XSD\n",
        "from datetime import datetime"
      ]
    },
    {
      "cell_type": "markdown",
      "metadata": {},
      "source": [
        "## Zadanie 1: Tworzenie podstawowej struktury biblioteki"
      ]
    },
    {
      "cell_type": "code",
      "execution_count": null,
      "metadata": {},
      "outputs": [],
      "source": [
        "# Tworzymy nowy graf RDF\n",
        "\n",
        "\n",
        "# Definiujemy własną przestrzeń nazw dla biblioteki\n",
        "\n",
        "\n",
        "# Miejsce na implementację Zadania 1\n"
      ]
    },
    {
      "cell_type": "markdown",
      "metadata": {},
      "source": [
        "## Zadanie 2: Implementacja systemu wypożyczeń"
      ]
    },
    {
      "cell_type": "code",
      "execution_count": null,
      "metadata": {},
      "outputs": [],
      "source": [
        "# Miejsce na implementację Zadania 2\n"
      ]
    }
  ],
  "metadata": {
    "kernelspec": {
      "display_name": "Python 3",
      "language": "python",
      "name": "python3"
    },
    "language_info": {
      "codemirror_mode": {
        "name": "ipython",
        "version": 3
      },
      "file_extension": ".py",
      "mimetype": "text/x-python",
      "name": "python",
      "nbconvert_exporter": "python",
      "pygments_lexer": "ipython3",
      "version": "3.8.5"
    }
  },
  "nbformat": 4,
  "nbformat_minor": 4
}