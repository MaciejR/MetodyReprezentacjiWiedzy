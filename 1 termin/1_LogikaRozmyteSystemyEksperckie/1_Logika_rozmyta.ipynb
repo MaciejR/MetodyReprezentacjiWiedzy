{
 "cells": [
  {
   "cell_type": "markdown",
   "metadata": {},
   "source": [
    "## Zadanie: System oceny komfortu jazdy samochodem\n",
    "\n",
    "Celem zadania jest stworzenie systemu oceny komfortu jazdy samochodem z wykorzystaniem logiki rozmytej. System będzie uwzględniał trzy parametry wejściowe i na ich podstawie określał ogólny poziom komfortu jazdy.\n",
    "\n",
    "### Parametry wejściowe:\n",
    "\n",
    "1. Prędkość samochodu (km/h)\n",
    "2. Poziom hałasu w kabinie (dB)\n",
    "3. Jakość nawierzchni drogi (skala 0-10)\n",
    "\n",
    "### Parametry wyjściowe:\n",
    "\n",
    "- Komfort jazdy (skala: bardzo niski, niski, średni, wysoki, bardzo wysoki)\n",
    "\n",
    "### Kroki do wykonania:\n",
    "\n",
    "1. Zaimportuj niezbędne biblioteki, w tym `scikit-fuzzy`.\n",
    "2. Zdefiniuj zmienne lingwistyczne dla parametrów wejściowych i wyjściowych:\n",
    "   - Prędkość: niska, średnia, wysoka\n",
    "   - Poziom hałasu: cichy, umiarkowany, głośny\n",
    "   - Jakość nawierzchni: zła, przeciętna, dobra\n",
    "   - Komfort jazdy: bardzo niski, niski, średni, wysoki, bardzo wysoki\n",
    "3. Utwórz funkcje przynależności dla każdej zmiennej lingwistycznej.\n",
    "4. Zdefiniuj reguły rozmyte, np.:\n",
    "   - JEŻELI prędkość jest niska I hałas jest cichy I nawierzchnia jest dobra, TO komfort jest bardzo wysoki\n",
    "   - JEŻELI prędkość jest wysoka I hałas jest głośny I nawierzchnia jest zła, TO komfort jest bardzo niski\n",
    "5. Stwórz system wnioskowania rozmytego.\n",
    "6. Napisz funkcję, która przyjmuje konkretne wartości prędkości, poziomu hałasu i jakości nawierzchni, a zwraca ocenę komfortu jazdy.\n",
    "7. Przetestuj system dla różnych kombinacji parametrów wejściowych.\n",
    "\n",
    "\n"
   ]
  },
  {
   "cell_type": "code",
   "execution_count": null,
   "metadata": {},
   "outputs": [],
   "source": [
    "!pip install scikit-fuzzy"
   ]
  },
  {
   "cell_type": "code",
   "execution_count": null,
   "metadata": {},
   "outputs": [],
   "source": [
    "!pip install networkx"
   ]
  },
  {
   "cell_type": "code",
   "execution_count": null,
   "metadata": {},
   "outputs": [],
   "source": [
    "\n",
    "import numpy as np\n",
    "import skfuzzy as fuzz\n",
    "from skfuzzy import control as ctrl\n",
    "\n",
    "# Definiowanie zmiennych lingwistycznych\n",
    "\n",
    "# Definiowanie funkcji przynależności\n",
    "\n",
    "# Dodaj definicje dla pozostałych zmiennych\n",
    "\n",
    "# Definiowanie reguł\n",
    "\n",
    "\n",
    "# Tworzenie i symulacja systemu kontroli\n",
    "\n",
    "# Funkcja oceny komfortu\n",
    "\n",
    "# Test systemu\n",
    "print(ocen_komfort(50, 30, 8))\n",
    "\n"
   ]
  }
 ],
 "metadata": {
  "kernelspec": {
   "display_name": "autogpt",
   "language": "python",
   "name": "python3"
  },
  "language_info": {
   "codemirror_mode": {
    "name": "ipython",
    "version": 3
   },
   "file_extension": ".py",
   "mimetype": "text/x-python",
   "name": "python",
   "nbconvert_exporter": "python",
   "pygments_lexer": "ipython3",
   "version": "3.11.2"
  }
 },
 "nbformat": 4,
 "nbformat_minor": 4
}
