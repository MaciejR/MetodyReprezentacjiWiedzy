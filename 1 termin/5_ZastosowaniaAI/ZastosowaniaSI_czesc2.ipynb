{
  "cells": [
    {
      "cell_type": "markdown",
      "metadata": {},
      "source": [
        "# Zadania z regresji, rekomendacji i NLP w medycynie\n",
        "\n",
        "Ten notatnik zawiera praktyczne zadania wykorzystujące rzeczywiste dane medyczne.\n",
        "\n",
        "## Źródła danych:\n",
        "\n",
        "1. Medical Cost Personal Dataset:\n",
        "   - https://www.kaggle.com/datasets/mirichoi0218/insurance\n",
        "   - Alternatywnie (dataset insurence): https://github.com/stedy/Machine-Learning-with-R-datasets\n", 
        "   \n",
        "2. Drug Review Dataset:\n",
        "   - https://archive.ics.uci.edu/dataset/462/drug+review+dataset+drugs+com\n",
        "   \n",
        "3. Clinical Notes NLP Dataset:\n",
        "   - https://www.kaggle.com/datasets/tboyle10/medicaltranscriptions\n",
        "   \n",
        "4. Patient Treatment Response:\n",
        "   - https://archive.ics.uci.edu/dataset/296/diabetes+130+us+hospitals+for+years+1999+2008\n",
        "   \n",
        "5. Clinical Trial Reports:\n",
        "   - https://www.kaggle.com/datasets/parulpandey/covid19-clinical-trials-dataset\n",
        "\n",
        "## 1. Regresja - Przewidywanie kosztów opieki medycznej\n",
        "\n",
        "**Zbiór danych**: Medical Cost Personal Dataset\n",
        "\n",
        "**Cechy**:\n",
        "- age (wiek)\n",
        "- sex (płeć)\n",
        "- bmi (wskaźnik masy ciała)\n",
        "- children (liczba dzieci)\n",
        "- smoker (palacz)\n",
        "- region (region)\n",
        "- charges (koszty medyczne)"
      ]
    },
    {
      "cell_type": "code",
      "execution_count": null,
      "metadata": {},
      "outputs": [],
      "source": [
        "def predict_medical_costs():\n",
        "    \"\"\"\n",
        "    Przewidywanie kosztów opieki medycznej:\n",
        "    1. Analiza czynników wpływających na koszty\n",
        "    2. Przygotowanie cech (interakcje, transformacje)\n",
        "    3. Implementacja modeli regresyjnych\n",
        "    4. Analiza ważności czynników\n",
        "    5. Interpretacja modelu\n",
        "    \"\"\"\n",
        "    pass"
      ]
    },
    {
      "cell_type": "markdown",
      "metadata": {},
      "source": [
        "## 2. Rekomendacje - System rekomendacji leków\n",
        "\n",
        "**Zbiór danych**: Drug Review Dataset\n",
        "\n",
        "**Cechy**:\n",
        "- drugName (nazwa leku)\n",
        "- condition (schorzenie)\n",
        "- review (tekst recenzji)\n",
        "- rating (ocena)\n",
        "- date (data)\n",
        "- usefulCount (przydatność recenzji)"
      ]
    },
    {
      "cell_type": "code",
      "execution_count": null,
      "metadata": {},
      "outputs": [],
      "source": [
        "def recommend_medications():\n",
        "    \"\"\"\n",
        "    System rekomendacji leków:\n",
        "    1. Analiza skuteczności leków\n",
        "    2. Collaborative filtering na podstawie ocen\n",
        "    3. Content-based na podstawie schorzeń\n",
        "    4. Uwzględnienie efektów ubocznych\n",
        "    5. Personalizacja rekomendacji\n",
        "    \"\"\"\n",
        "    pass"
      ]
    },
    {
      "cell_type": "markdown",
      "metadata": {},
      "source": [
        "## 3. NLP - Analiza notatek klinicznych\n",
        "\n",
        "**Zbiór danych**: Clinical Notes Dataset (MIMIC-III)\n",
        "\n",
        "**Cechy**:\n",
        "- note_text (tekst notatki)\n",
        "- diagnosis (diagnoza)\n",
        "- procedures (procedury)\n",
        "- medications (leki)\n",
        "- admission_type (typ przyjęcia)"
      ]
    },
    {
      "cell_type": "code",
      "execution_count": null,
      "metadata": {},
      "outputs": [],
      "source": [
        "def analyze_clinical_notes():\n",
        "    \"\"\"\n",
        "    Analiza notatek klinicznych:\n",
        "    1. Ekstrakcja kluczowych informacji\n",
        "    2. Klasyfikacja diagnoz\n",
        "    3. Named Entity Recognition dla leków\n",
        "    4. Identyfikacja procedur medycznych\n",
        "    5. Raportowanie wyników\n",
        "    \"\"\"\n",
        "    pass"
      ]
    },
    {
      "cell_type": "markdown",
      "metadata": {},
      "source": [
        "## 4. Regresja - Prognozowanie odpowiedzi na leczenie\n",
        "\n",
        "**Zbiór danych**: Patient Treatment Response Dataset\n",
        "\n",
        "**Cechy**:\n",
        "- patient_demographics\n",
        "- treatment_type\n",
        "- dosage\n",
        "- biomarkers\n",
        "- response_metrics\n",
        "- time_series_data"
      ]
    },
    {
      "cell_type": "code",
      "execution_count": null,
      "metadata": {},
      "outputs": [],
      "source": [
        "def predict_treatment_response():\n",
        "    \"\"\"\n",
        "    Prognozowanie skuteczności leczenia:\n",
        "    1. Analiza biomarkerów\n",
        "    2. Modelowanie odpowiedzi w czasie\n",
        "    3. Predykcja efektów leczenia\n",
        "    4. Optymalizacja dawkowania\n",
        "    5. Wizualizacja trendów\n",
        "    \"\"\"\n",
        "    pass"
      ]
    },
    {
      "cell_type": "markdown",
      "metadata": {},
      "source": [
        "## 5. NLP - Analiza raportów z badań klinicznych\n",
        "\n",
        "**Zbiór danych**: Clinical Trial Reports Dataset\n",
        "\n",
        "**Cechy**:\n",
        "- trial_id\n",
        "- description\n",
        "- conditions\n",
        "- interventions\n",
        "- outcomes\n",
        "- eligibility_criteria"
      ]
    },
    {
      "cell_type": "code",
      "execution_count": null,
      "metadata": {},
      "outputs": [],
      "source": [
        "def analyze_clinical_trials():\n",
        "    \"\"\"\n",
        "    Analiza raportów z badań:\n",
        "    1. Ekstrakcja kryteriów włączenia\n",
        "    2. Klasyfikacja interwencji\n",
        "    3. Analiza wyników\n",
        "    4. Identyfikacja podobnych badań\n",
        "    5. Generowanie streszczeń\n",
        "    \"\"\"\n",
        "    pass"
      ]
    }
  ],
  "metadata": {
    "language_info": {
      "name": "python"
    }
  },
  "nbformat": 4,
  "nbformat_minor": 4
}