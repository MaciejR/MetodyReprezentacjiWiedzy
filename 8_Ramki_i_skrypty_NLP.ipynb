{
 "cells": [
  {
   "cell_type": "markdown",
   "metadata": {},
   "source": [
    "# Zadanie: Analiza tekstu z wykorzystaniem ramek semantycznych i skryptów semantycznych\n",
    "\n",
    "W tym zadaniu będziemy pracować nad analizą tekstu z wykorzystaniem ramek semantycznych i skryptów semantycznych. Użyjemy biblioteki Framenet, która jest implementacją teorii ramek semantycznych w Pythonie, oraz spaCy do przetwarzania tekstu."
   ]
  },
  {
   "cell_type": "code",
   "execution_count": null,
   "metadata": {},
   "outputs": [],
   "source": [
    "import nltk\n",
    "from nltk.corpus import framenet as fn\n",
    "import spacy\n",
    "\n",
    "# Pobieranie potrzebnych zasobów\n",
    "nltk.download('framenet_v17')\n",
    "\n",
    "# Wczytanie modelu spaCy\n",
    "nlp = spacy.load(\"en_core_web_sm\")\n",
    "\n",
    "print(\"Biblioteki zostały zaimportowane i zasoby pobrane.\")"
   ]
  },
  {
   "cell_type": "markdown",
   "metadata": {},
   "source": [
    "## Krok 1: Przygotowanie funkcji do identyfikacji ramek semantycznych"
   ]
  },
  {
   "cell_type": "code",
   "execution_count": null,
   "metadata": {},
   "outputs": [],
   "source": [
    "def identify_semantic_frames(sentence):\n",
    "    doc = nlp(sentence)\n",
    "    frames = []\n",
    "    \n",
    "    for token in doc:\n",
    "        if token.pos_ == \"VERB\":\n",
    "            # Szukamy ramek semantycznych dla czasowników\n",
    "            for lemma in fn.lemmata(token.lemma_):\n",
    "                for frame in lemma.frames:\n",
    "                    frames.append((token.text, frame.name))\n",
    "    \n",
    "    return frames\n",
    "\n",
    "print(\"Funkcja identify_semantic_frames została zdefiniowana.\")"
   ]
  },
  {
   "cell_type": "markdown",
   "metadata": {},
   "source": [
    "## Krok 2: Przygotowanie funkcji do analizy skryptu semantycznego"
   ]
  },
  {
   "cell_type": "code",
   "execution_count": null,
   "metadata": {},
   "outputs": [],
   "source": [
    "def analyze_semantic_script(frames):\n",
    "    script = []\n",
    "    for verb, frame in frames:\n",
    "        frame_info = fn.frame(frame)\n",
    "        script.append({\n",
    "            'verb': verb,\n",
    "            'frame': frame,\n",
    "            'core_elements': [fe.name for fe in frame_info.FE.values() if fe.coreType == 'Core']\n",
    "        })\n",
    "    return script\n",
    "\n",
    "print(\"Funkcja analyze_semantic_script została zdefiniowana.\")"
   ]
  },
  {
   "cell_type": "markdown",
   "metadata": {},
   "source": [
    "## Krok 3: Analiza przykładowego zdania"
   ]
  },
  {
   "cell_type": "code",
   "execution_count": null,
   "metadata": {},
   "outputs": [],
   "source": [
    "# Przykładowe zdanie do analizy\n",
    "sentence = \"The chef cooked a delicious meal for his guests.\"\n",
    "\n",
    "# Analiza zdania\n",
    "identified_frames = identify_semantic_frames(sentence)\n",
    "semantic_script = analyze_semantic_script(identified_frames)\n",
    "\n",
    "print(\"Zidentyfikowane ramki semantyczne:\")\n",
    "for verb, frame in identified_frames:\n",
    "    print(f\"- Czasownik: {verb}, Ramka: {frame}\")\n",
    "\n",
    "print(\"\\nSkrypt semantyczny:\")\n",
    "for item in semantic_script:\n",
    "    print(f\"- Czasownik: {item['verb']}\")\n",
    "    print(f\"  Ramka: {item['frame']}\")\n",
    "    print(f\"  Kluczowe elementy: {', '.join(item['core_elements'])}\")"
   ]
  },
  {
   "cell_type": "markdown",
   "metadata": {},
   "source": [
    "## Zadanie dla uczestników\n",
    "\n",
    "1. Rozszerz analizę o identyfikację ról semantycznych dla argumentów czasowników.\n",
    "2. Zaimplementuj funkcję do wizualizacji ramek semantycznych i skryptów (możesz użyć biblioteki networkx).\n",
    "3. Przeprowadź analizę na dłuższym tekście, np. akapicie, i porównaj wyniki.\n",
    "4. Zbadaj, jak zmienia się analiza dla różnych typów zdań (np. pytania, rozkazy).\n",
    "5. Porównaj wyniki analizy z wykorzystaniem różnych modeli spaCy (np. en_core_web_sm vs en_core_web_lg).\n",
    "\n",
    "Powodzenia!"
   ]
  }
 ],
 "metadata": {
  "kernelspec": {
   "display_name": "Python 3",
   "language": "python",
   "name": "python3"
  },
  "language_info": {
   "codemirror_mode": {
    "name": "ipython",
    "version": 3
   },
   "file_extension": ".py",
   "mimetype": "text/x-python",
   "name": "python",
   "nbconvert_exporter": "python",
   "pygments_lexer": "ipython3",
   "version": "3.8.5"
  }
 },
 "nbformat": 4,
 "nbformat_minor": 4
}