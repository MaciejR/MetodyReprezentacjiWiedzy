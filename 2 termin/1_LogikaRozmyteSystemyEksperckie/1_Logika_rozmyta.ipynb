{
    "cells": [
        {
            "cell_type": "markdown",
            "metadata": {},
            "source": [
                "## Zadanie: System rekomendacji temperatury w pomieszczeniu\n",
                "\n",
                "Celem zadania jest stworzenie systemu rekomendacji optymalnej temperatury w pomieszczeniu z wykorzystaniem logiki rozmytej. System będzie uwzględniał trzy parametry wejściowe i na ich podstawie określał zalecaną temperaturę.\n",
                "\n",
                "### Parametry wejściowe:\n",
                "\n",
                "1. Aktywność fizyczna osób (skala 0-10, gdzie 0 to sen, 10 to intensywny wysiłek)\n",
                "2. Liczba osób w pomieszczeniu\n",
                "3. Temperatura zewnętrzna (°C)\n",
                "\n",
                "### Parametry wyjściowe:\n",
                "\n",
                "- Zalecana temperatura (skala: bardzo niska, niska, komfortowa, wysoka, bardzo wysoka)\n",
                "\n",
                "### Kroki do wykonania:\n",
                "\n",
                "1. Zaimportuj niezbędne biblioteki, w tym `scikit-fuzzy`.\n",
                "2. Zdefiniuj zmienne lingwistyczne dla parametrów wejściowych i wyjściowych:\n",
                "   - Aktywność: niska, umiarkowana, wysoka\n",
                "   - Liczba osób: mała, średnia, duża\n",
                "   - Temperatura zewnętrzna: niska, umiarkowana, wysoka\n",
                "   - Zalecana temperatura: bardzo niska, niska, komfortowa, wysoka, bardzo wysoka\n",
                "3. Utwórz funkcje przynależności dla każdej zmiennej lingwistycznej.\n",
                "4. Zdefiniuj reguły rozmyte, np.:\n",
                "   - JEŻELI aktywność jest wysoka I liczba osób jest duża I temperatura zewnętrzna jest wysoka, TO zalecana temperatura jest bardzo niska\n",
                "   - JEŻELI aktywność jest niska I liczba osób jest mała I temperatura zewnętrzna jest niska, TO zalecana temperatura jest wysoka\n",
                "5. Stwórz system wnioskowania rozmytego.\n",
                "6. Napisz funkcję, która przyjmuje konkretne wartości aktywności, liczby osób i temperatury zewnętrznej, a zwraca zalecaną temperaturę.\n",
                "7. Przetestuj system dla różnych kombinacji parametrów wejściowych.\n",
                "\n",
                "### Dodatkowe wymagania:\n",
                "- Użyj trapezoidalnych funkcji przynależności dla temperatur\n",
                "- Użyj triangularnych funkcji przynależności dla pozostałych parametrów\n",
                "- Zaimplementuj co najmniej 10 różnych reguł\n",
                "- Dodaj wizualizację funkcji przynależności\n"
            ]
        },
        {
            "cell_type": "code",
            "execution_count": null,
            "metadata": {},
            "outputs": [],
            "source": [
                "!pip install scikit-fuzzy\n",
                "!pip install networkx"
            ]
        },
        {
            "cell_type": "code",
            "execution_count": null,
            "metadata": {},
            "outputs": [],
            "source": [
                "import numpy as np\n",
                "import skfuzzy as fuzz\n",
                "from skfuzzy import control as ctrl\n",
                "\n",
                "# Definiowanie zmiennych lingwistycznych\n",
                "\n",
                "# Definiowanie funkcji przynależności\n",
                "\n",
                "# Dodaj definicje dla pozostałych zmiennych\n",
                "\n",
                "# Definiowanie reguł\n",
                "\n",
                "# Tworzenie i symulacja systemu kontroli\n",
                "\n",
                "# Funkcja rekomendacji temperatury\n",
                "\n",
                "# Test systemu\n",
                "print(rekomenduj_temperature(5, 10, 25))"
            ]
        }
    ],
    "metadata": {
        "kernelspec": {
            "display_name": "Python 3",
            "language": "python",
            "name": "python3"
        },
        "language_info": {
            "codemirror_mode": {
                "name": "ipython",
                "version": 3
            },
            "file_extension": ".py",
            "mimetype": "text/x-python",
            "name": "python",
            "nbconvert_exporter": "python",
            "pygments_lexer": "ipython3",
            "version": "3.8.5"
        }
    },
    "nbformat": 4,
    "nbformat_minor": 4
}