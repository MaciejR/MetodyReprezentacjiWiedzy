{
    "cells": [
        {
            "cell_type": "markdown",
            "metadata": {},
            "source": [
                "# Zadania z Systemów Rekomendacyjnych i Analizy Danych\n",
                "\n",
                "## Przygotowanie środowiska i pobranie danych"
            ]
        },
        {
            "cell_type": "code",
            "execution_count": null,
            "metadata": {},
            "outputs": [],
            "source": [
                "import os\n",
                "import requests\n",
                "import pandas as pd\n",
                "import numpy as np\n",
                "from zipfile import ZipFile\n",
                "from io import BytesIO\n",
                "import urllib.request\n",
                "\n",
                "# Tworzenie katalogów dla danych\n",
                "data_dirs = ['movie_data', 'ecommerce_data', 'social_media_data']\n",
                "for dir_name in data_dirs:\n",
                "    os.makedirs(dir_name, exist_ok=True)\n",
                "\n",
                "# MovieLens dataset\n",
                "print(\"Pobieranie danych MovieLens...\")\n",
                "movielens_url = \"https://files.grouplens.org/datasets/movielens/ml-100k.zip\"\n",
                "try:\n",
                "    response = requests.get(movielens_url)\n",
                "    with ZipFile(BytesIO(response.content)) as zip_ref:\n",
                "        zip_ref.extractall(\"movie_data\")\n",
                "    print(\"Pomyślnie pobrano i rozpakowano dane MovieLens\")\n",
                "except Exception as e:\n",
                "    print(f\"Błąd podczas pobierania danych MovieLens: {e}\")\n",
                "\n",
                "# E-commerce dataset\n",
                "print(\"\\nPobieranie danych E-commerce...\")\n",
                "ecommerce_url = \"https://archive.ics.uci.edu/ml/machine-learning-databases/00502/online_retail_II.xlsx\"\n",
                "try:\n",
                "    urllib.request.urlretrieve(ecommerce_url, \"ecommerce_data/online_retail_II.xlsx\")\n",
                "    print(\"Pomyślnie pobrano dane E-commerce\")\n",
                "except Exception as e:\n",
                "    print(f\"Błąd podczas pobierania danych E-commerce: {e}\")\n",
                "\n",
                "# Twitter data\n",
                "print(\"\\nPobieranie danych Twitter...\")\n",
                "twitter_url = \"https://raw.githubusercontent.com/gedeck/practical-statistics-for-data-scientists/master/data/twitter_trends.csv\"\n",
                "try:\n",
                "    urllib.request.urlretrieve(twitter_url, \"social_media_data/twitter_trends.csv\")\n",
                "    print(\"Pomyślnie pobrano dane Twitter\")\n",
                "except Exception as e:\n",
                "    print(f\"Błąd podczas pobierania danych Twitter: {e}\")"
            ]
        },
        {
            "cell_type": "markdown",
            "metadata": {},
            "source": [
                "## Ładowanie i przegląd danych"
            ]
        },
        {
            "cell_type": "code",
            "execution_count": null,
            "metadata": {},
            "outputs": [],
            "source": [
                "def load_movielens_data():\n",
                "    \"\"\"Ładuje i przygotowuje dane MovieLens\"\"\"\n",
                "    ratings_file = 'movie_data/ml-100k/u.data'\n",
                "    movies_file = 'movie_data/ml-100k/u.item'\n",
                "    users_file = 'movie_data/ml-100k/u.user'\n",
                "    \n",
                "    try:\n",
                "        ratings = pd.read_csv(ratings_file, \n",
                "                             sep='\\t',\n",
                "                             names=['user_id', 'movie_id', 'rating', 'timestamp'])\n",
                "        \n",
                "        movies = pd.read_csv(movies_file,\n",
                "                            sep='|',\n",
                "                            encoding='latin-1',\n",
                "                            names=['movie_id', 'title', 'release_date', 'video_release_date',\n",
                "                                  'IMDb_URL'] + [f'genre_{i}' for i in range(19)])\n",
                "        \n",
                "        users = pd.read_csv(users_file,\n",
                "                           sep='|',\n",
                "                           names=['user_id', 'age', 'gender', 'occupation', 'zip_code'])\n",
                "        \n",
                "        return ratings, movies, users\n",
                "    except Exception as e:\n",
                "        print(f\"Błąd podczas wczytywania danych MovieLens: {e}\")\n",
                "        return None, None, None\n",
                "\n",
                "def load_ecommerce_data():\n",
                "    \"\"\"Ładuje i przygotowuje dane E-commerce\"\"\"\n",
                "    try:\n",
                "        data = pd.read_excel('ecommerce_data/online_retail_II.xlsx')\n",
                "        data = data.dropna()\n",
                "        data['TotalPrice'] = data['Quantity'] * data['Price']\n",
                "        return data\n",
                "    except Exception as e:\n",
                "        print(f\"Błąd podczas wczytywania danych E-commerce: {e}\")\n",
                "        return None\n",
                "\n",
                "def load_twitter_data():\n",
                "    \"\"\"Ładuje i przygotowuje dane Twitter\"\"\"\n",
                "    try:\n",
                "        data = pd.read_csv('social_media_data/twitter_trends.csv')\n",
                "        return data\n",
                "    except Exception as e:\n",
                "        print(f\"Błąd podczas wczytywania danych Twitter: {e}\")\n",
                "        return None\n",
                "\n",
                "# Wczytanie zbiorów danych\n",
                "print(\"Wczytywanie zbiorów danych...\")\n",
                "ratings, movies, users = load_movielens_data()\n",
                "ecommerce_data = load_ecommerce_data()\n",
                "twitter_data = load_twitter_data()\n",
                "\n",
                "# Wyświetlenie informacji\n",
                "print(\"\\nPodstawowe informacje o zbiorach danych:\")\n",
                "if ratings is not None:\n",
                "    print(\"\\nMovieLens - Oceny:\")\n",
                "    print(ratings.info())\n",
                "    \n",
                "if ecommerce_data is not None:\n",
                "    print(\"\\nE-commerce:\")\n",
                "    print(ecommerce_data.info())\n",
                "    \n",
                "if twitter_data is not None:\n",
                "    print(\"\\nTwitter:\")\n",
                "    print(twitter_data.info())"
            ]
        },
        {
            "cell_type": "markdown",
            "metadata": {},
            "source": [
                "## Zadanie 1: System Rekomendacji Filmów\n",
                "\n",
                "Zaimplementuj system rekomendacji wykorzystujący filtrowanie kolaboratywne oraz reprezentacje głębokie."
            ]
        },
        {
            "cell_type": "code",
            "execution_count": null,
            "metadata": {},
            "outputs": [],
            "source": [
                "import torch\n",
                "import torch.nn as nn\n",
                "from typing import Dict, List, Tuple\n",
                "\n",
                "class MovieRecommender:\n",
                "    def __init__(self, n_users: int, n_movies: int, embedding_dim: int = 100):\n",
                "        self.model = DeepRecommenderModel(n_users, n_movies, embedding_dim)\n",
                "        self.optimizer = torch.optim.Adam(self.model.parameters())\n",
                "        self.criterion = nn.MSELoss()\n",
                "    \n",
                "    def train(self, ratings_data: pd.DataFrame, epochs: int = 10):\n",
                "        \"\"\"Trenuje model rekomendacji\"\"\"\n",
                "        for epoch in range(epochs):\n",
                "            # TODO: Implementacja treningu\n",
                "            pass\n",
                "    \n",
                "    def get_recommendations(self, user_id: int, n_recommendations: int = 10) -> List[Tuple[int, float]]:\n",
                "        \"\"\"Generuje rekomendacje dla użytkownika\"\"\"\n",
                "        # TODO: Implementacja rekomendacji\n",
                "        pass"
            ]
        },
        {
            "cell_type": "markdown",
            "metadata": {},
            "source": [
                "## Zadanie 2: Analiza Zachowań Użytkowników\n",
                "\n",
                "Zaimplementuj system analizy zachowań użytkowników w e-commerce."
            ]
        },
        {
            "cell_type": "code",
            "execution_count": null,
            "metadata": {},
            "outputs": [],
            "source": [
                "class UserBehaviorAnalyzer:\n",
                "    def __init__(self):\n",
                "        self.session_processor = None\n",
                "        self.pattern_detector = None\n",
                "    \n",
                "    def analyze_sessions(self, session_data: pd.DataFrame) -> Dict:\n",
                "        \"\"\"Analizuje sesje użytkowników\"\"\"\n",
                "        # TODO: Implementacja analizy sesji\n",
                "        pass\n",
                "    \n",
                "    def detect_patterns(self, user_data: pd.DataFrame) -> List[Dict]:\n",
                "        \"\"\"Wykrywa wzorce zachowań\"\"\"\n",
                "        # TODO: Implementacja detekcji wzorców\n",
                "        pass"
            ]
        },
        {
            "cell_type": "markdown",
            "metadata": {},
            "source": [
                "## Zadanie 3: Analiza Trendów Społecznościowych\n",
                "\n",
                "Zaimplementuj system analizy trendów w mediach społecznościowych."
            ]
        },
        {
            "cell_type": "code",
            "execution_count": null,
            "metadata": {},
            "outputs": [],
            "source": [
                "class TrendAnalyzer:\n",
                "    def __init__(self):\n",
                "        self.trend_detector = None\n",
                "        self.sentiment_analyzer = None\n",
                "    \n",
                "    def analyze_trends(self, social_data: pd.DataFrame) -> Dict:\n",
                "        \"\"\"Analizuje trendy\"\"\"\n",
                "        # TODO: Implementacja analizy trendów\n",
                "        pass\n",
                "    \n",
                "    def predict_trend_development(self, trend_data: pd.DataFrame) -> Dict:\n",
                "        \"\"\"Przewiduje rozwój trendów\"\"\"\n",
                "        # TODO: Implementacja predykcji trendów\n",
                "        pass"
            ]
        },
        {
            "cell_type": "markdown",
            "metadata": {},
            "source": [
                "## Zadania do wykonania\n",
                "\n",
                "1. System rekomendacji filmów:\n",
                "   - Implementacja głębokiego modelu rekomendacji\n",
                "   - Dodanie mechanizmu uwagi\n",
                "   - Implementacja cold-start\n",
                "   - Ewaluacja rekomendacji\n",
                "\n",
                "2. Analiza zachowań użytkowników:\n",
                "   - Segmentacja użytkowników\n",
                "   - Detekcja anomalii\n",
                "   - Predykcja zachowań\n",
                "   - Wizualizacje\n",
                "\n",
                "3. Analiza trendów:\n",
                "   - Detekcja trendów\n",
                "   - Analiza sentymentu\n",
                "   - Predykcja rozwoju\n",
                "   - Raporty i dashboardy"
            ]
        }
    ],
    "metadata": {
        "kernelspec": {
            "display_name": "Python 3",
            "language": "python",
            "name": "python3"
        },
        "language_info": {
            "codemirror_mode": {
                "name": "ipython",
                "version": 3
            },
            "file_extension": ".py",
            "mimetype": "text/x-python",
            "name": "python",
            "nbconvert_exporter": "python",
            "pygments_lexer": "ipython3",
            "version": "3.8.5"
        }
    },
    "nbformat": 4,
    "nbformat_minor": 4
}
