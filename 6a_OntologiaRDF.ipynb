{
 "cells": [
  {
   "cell_type": "markdown",
   "metadata": {},
   "source": [
    "# Zadania z ontologii RDF\n",
    "\n",
    "W tym notebooku znajdują się dwa zadania dotyczące tworzenia i manipulowania ontologiami przy użyciu biblioteki RDFLib."
   ]
  },
  {
   "cell_type": "code",
   "execution_count": null,
   "metadata": {},
   "source": [
    "from rdflib import Graph, Namespace, Literal, URIRef\n",
    "from rdflib.namespace import RDF, RDFS, OWL, FOAF, XSD"
   ]
  },
  {
   "cell_type": "markdown",
   "metadata": {},
   "source": [
    "## Zadanie 1: Stworzenie i przeszukiwanie prostej ontologii RDF"
   ]
  },
  {
   "cell_type": "code",
   "execution_count": null,
   "metadata": {},
   "source": [
    "# Tworzymy nowy graf RDF\n",
    "g = Graph()\n",
    "\n",
    "# Definiujemy własną przestrzeń nazw\n",
    "ex = Namespace(\"http://example.org/\")\n",
    "\n",
    "# Dodajemy klasy do ontologii\n",
    "g.add((ex.Animal, RDF.type, RDFS.Class))\n",
    "g.add((ex.Mammal, RDF.type, RDFS.Class))\n",
    "g.add((ex.Mammal, RDFS.subClassOf, ex.Animal))\n",
    "g.add((ex.Dog, RDF.type, RDFS.Class))\n",
    "g.add((ex.Dog, RDFS.subClassOf, ex.Mammal))\n",
    "\n",
    "# Dodajemy instancje\n",
    "g.add((ex.Fido, RDF.type, ex.Dog))\n",
    "g.add((ex.Fido, FOAF.name, Literal(\"Fido\")))\n",
    "g.add((ex.Fido, ex.age, Literal(5)))\n",
    "\n",
    "g.add((ex.Rex, RDF.type, ex.Dog))\n",
    "g.add((ex.Rex, FOAF.name, Literal(\"Rex\")))\n",
    "g.add((ex.Rex, ex.age, Literal(3)))\n",
    "\n",
    "# Wyświetlamy wszystkie trójki w grafie\n",
    "print(\"Wszystkie trójki w grafie:\")\n",
    "for s, p, o in g:\n",
    "    print(s, p, o)\n",
    "\n",
    "print(\"\\nWszystkie psy w ontologii:\")\n",
    "for dog in g.subjects(RDF.type, ex.Dog):\n",
    "    name = g.value(dog, FOAF.name)\n",
    "    age = g.value(dog, ex.age)\n",
    "    print(f\"Imię: {name}, Wiek: {age}\")\n",
    "\n",
    "print(\"\\nWszystkie ssaki w ontologii:\")\n",
    "for mammal in g.subjects(RDFS.subClassOf, ex.Mammal):\n",
    "    print(mammal)"
   ]
  },
  {
   "cell_type": "markdown",
   "metadata": {},
   "source": [
    "## Zadanie 2: Rozszerzenie ontologii o relacje i zapytania SPARQL"
   ]
  },
  {
   "cell_type": "code",
   "execution_count": null,
   "metadata": {},
   "source": [
    "# Rozszerzamy ontologię o nowe klasy i relacje\n",
    "g.add((ex.Person, RDF.type, RDFS.Class))\n",
    "g.add((ex.owns, RDF.type, RDF.Property))\n",
    "g.add((ex.owns, RDFS.domain, ex.Person))\n",
    "g.add((ex.owns, RDFS.range, ex.Dog))\n",
    "\n",
    "# Dodajemy instancje osób i relacje własności\n",
    "g.add((ex.John, RDF.type, ex.Person))\n",
    "g.add((ex.John, FOAF.name, Literal(\"John\")))\n",
    "g.add((ex.John, ex.owns, ex.Fido))\n",
    "\n",
    "g.add((ex.Alice, RDF.type, ex.Person))\n",
    "g.add((ex.Alice, FOAF.name, Literal(\"Alice\")))\n",
    "g.add((ex.Alice, ex.owns, ex.Rex))\n",
    "\n",
    "# Wykonujemy zapytanie SPARQL\n",
    "query = \"\"\"\n",
    "PREFIX ex: <http://example.org/>\n",
    "PREFIX foaf: <http://xmlns.com/foaf/0.1/>\n",
    "\n",
    "SELECT ?person ?personName ?dog ?dogName ?dogAge\n",
    "WHERE {\n",
    "    ?person a ex:Person ;\n",
    "            foaf:name ?personName ;\n",
    "            ex:owns ?dog .\n",
    "    ?dog a ex:Dog ;\n",
    "         foaf:name ?dogName ;\n",
    "         ex:age ?dogAge .\n",
    "}\n",
    "\"\"\"\n",
    "\n",
    "print(\"Wyniki zapytania SPARQL:\")\n",
    "for row in g.query(query):\n",
    "    print(f\"Osoba: {row.personName}, Pies: {row.dogName}, Wiek psa: {row.dogAge}\")\n",
    "\n",
    "# Zadanie dla użytkownika:\n",
    "# 1. Dodaj nową klasę 'Cat' jako podklasę 'Mammal'\n",
    "# 2. Dodaj instancję kota o imieniu \"Whiskers\" i wieku 2 lata\n",
    "# 3. Utwórz relację 'likes' między psami a kotami\n",
    "# 4. Napisz zapytanie SPARQL, które wyświetli wszystkie psy, które lubią koty"
   ]
  }
 ],
 "metadata": {
  "kernelspec": {
   "display_name": "Python 3",
   "language": "python",
   "name": "python3"
  },
  "language_info": {
   "codemirror_mode": {
    "name": "ipython",
    "version": 3
   },
   "file_extension": ".py",
   "mimetype": "text/x-python",
   "name": "python",
   "nbconvert_exporter": "python",
   "pygments_lexer": "ipython3",
   "version": "3.8.5"
  }
 },
 "nbformat": 4,
 "nbformat_minor": 4
}