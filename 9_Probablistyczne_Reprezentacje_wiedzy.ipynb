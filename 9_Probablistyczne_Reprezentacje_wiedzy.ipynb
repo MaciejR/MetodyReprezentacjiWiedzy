{
 "cells": [
  {
   "cell_type": "markdown",
   "metadata": {},
   "source": [
    "# Reprezentacja probabilistyczna wiedzy\n",
    "\n",
    "## Wstęp teoretyczny\n",
    "\n",
    "Reprezentacja probabilistyczna wiedzy jest kluczowym podejściem w sztucznej inteligencji, pozwalającym na modelowanie niepewności i podejmowanie decyzji w warunkach niepełnej informacji. Główne koncepcje obejmują:\n",
    "\n",
    "1. **Prawdopodobieństwo warunkowe**: P(A|B) - prawdopodobieństwo zajścia zdarzenia A, gdy zaszło zdarzenie B.\n",
    "\n",
    "2. **Zdarzenia niezależne**: Gdy P(A∩B) = P(A) · P(B).\n",
    "\n",
    "3. **Zdarzenia zależne**: Gdy zajście jednego zdarzenia wpływa na prawdopodobieństwo drugiego.\n",
    "\n",
    "4. **Sieci Bayesowskie**: Grafy acykliczne reprezentujące zależności probabilistyczne między zmiennymi."
   ]
  },
  {
   "cell_type": "markdown",
   "metadata": {},
   "source": [
    "## Zadanie 1: Implementacja prostego klasyfikatora Bayesowskiego"
   ]
  },
  {
   "cell_type": "code",
   "execution_count": null,
   "metadata": {},
   "outputs": [],
   "source": [
    "import numpy as np\n",
    "\n",
    "def naive_bayes_classifier(X_train, y_train, X_test):\n",
    "    # TODO: Zaimplementuj prosty klasyfikator Naive Bayes\n",
    "    # Wskazówka: Oblicz prawdopodobieństwa a priori dla klas oraz prawdopodobieństwa warunkowe cech\n",
    "    pass\n",
    "\n",
    "# Przykładowe dane\n",
    "X_train = np.array([[1, 1, 0], [1, 0, 1], [0, 1, 1], [0, 0, 0]])\n",
    "y_train = np.array([1, 1, 0, 0])\n",
    "X_test = np.array([[1, 0, 0], [0, 1, 0]])\n",
    "\n",
    "predictions = naive_bayes_classifier(X_train, y_train, X_test)\n",
    "print(\"Przewidywane klasy:\", predictions)"
   ]
  },
  {
   "cell_type": "markdown",
   "metadata": {},
   "source": [
    "**Wskazówki:**\n",
    "- Oblicz prawdopodobieństwa a priori dla klas.\n",
    "- Oblicz prawdopodobieństwa warunkowe cech dla każdej klasy.\n",
    "- Użyj reguły Bayesa do klasyfikacji próbek testowych."
   ]
  },
  {
   "cell_type": "markdown",
   "metadata": {},
   "source": [
    "## Zadanie 2: Implementacja prostej sieci Bayesowskiej"
   ]
  },
  {
   "cell_type": "code",
   "execution_count": null,
   "metadata": {},
   "outputs": [],
   "source": [
    "import networkx as nx\n",
    "import matplotlib.pyplot as plt\n",
    "\n",
    "class BayesianNetwork:\n",
    "    def __init__(self):\n",
    "        self.graph = nx.DiGraph()\n",
    "        self.cpt = {}  # Conditional Probability Tables\n",
    "\n",
    "    def add_node(self, node):\n",
    "        # TODO: Dodaj węzeł do grafu\n",
    "        pass\n",
    "\n",
    "    def add_edge(self, parent, child):\n",
    "        # TODO: Dodaj krawędź do grafu\n",
    "        pass\n",
    "\n",
    "    def set_cpt(self, node, cpt):\n",
    "        # TODO: Ustaw tablicę prawdopodobieństw warunkowych dla węzła\n",
    "        pass\n",
    "\n",
    "    def plot(self):\n",
    "        # TODO: Wizualizuj sieć Bayesowską\n",
    "        pass\n",
    "\n",
    "# Przykładowe użycie\n",
    "bn = BayesianNetwork()\n",
    "# TODO: Dodaj węzły i krawędzie reprezentujące prostą sieć Bayesowską\n",
    "# TODO: Ustaw CPT dla węzłów\n",
    "bn.plot()"
   ]
  },
  {
   "cell_type": "markdown",
   "metadata": {},
   "source": [
    "**Wskazówki:**\n",
    "- Użyj biblioteki NetworkX do reprezentacji grafu.\n",
    "- Zaimplementuj metody do dodawania węzłów, krawędzi i ustawiania CPT.\n",
    "- Użyj matplotlib do wizualizacji sieci."
   ]
  },
  {
   "cell_type": "markdown",
   "metadata": {},
   "source": [
    "## Zadanie 3: Symulacja łańcucha Markowa"
   ]
  },
  {
   "cell_type": "code",
   "execution_count": null,
   "metadata": {},
   "outputs": [],
   "source": [
    "import numpy as np\n",
    "import matplotlib.pyplot as plt\n",
    "\n",
    "def markov_chain_simulation(transition_matrix, initial_state, num_steps):\n",
    "    # TODO: Zaimplementuj symulację łańcucha Markowa\n",
    "    pass\n",
    "\n",
    "# Przykładowa macierz przejścia (dla 3 stanów pogody: słonecznie, pochmurno, deszczowo)\n",
    "transition_matrix = np.array([\n",
    "    [0.7, 0.2, 0.1],  # słonecznie\n",
    "    [0.3, 0.4, 0.3],  # pochmurno\n",
    "    [0.2, 0.3, 0.5]   # deszczowo\n",
    "])\n",
    "\n",
    "initial_state = 0  # Zaczynamy od słonecznej pogody\n",
    "num_steps = 100\n",
    "\n",
    "states = markov_chain_simulation(transition_matrix, initial_state, num_steps)\n",
    "\n",
    "# TODO: Wizualizuj wyniki symulacji"
   ]
  },
  {
   "cell_type": "markdown",
   "metadata": {},
   "source": [
    "**Wskazówki:**\n",
    "- Użyj np.random.choice do wyboru następnego stanu na podstawie macierzy przejścia.\n",
    "- Zapisuj sekwencję stanów w liście.\n",
    "- Użyj matplotlib do wizualizacji sekwencji stanów."
   ]
  }
 ],
 "metadata": {
  "kernelspec": {
   "display_name": "Python 3",
   "language": "python",
   "name": "python3"
  },
  "language_info": {
   "codemirror_mode": {
    "name": "ipython",
    "version": 3
   },
   "file_extension": ".py",
   "mimetype": "text/x-python",
   "name": "python",
   "nbconvert_exporter": "python",
   "pygments_lexer": "ipython3",
   "version": "3.8.5"
  }
 },
 "nbformat": 4,
 "nbformat_minor": 4
}