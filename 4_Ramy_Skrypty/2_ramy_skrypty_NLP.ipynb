{
  "cells": [
    {
      "cell_type": "markdown",
      "metadata": {},
      "source": [
        "# Zadanie 3: Analiza opinii klientów i wyodrębnianie ram\n",
        "\n",
        "Napisz funkcję `extract_product_review_frame(text)`, która analizuje tekst opinii klienta i wyodrębnia z niego ramę \"Opinia o produkcie\". Funkcja powinna zwracać słownik reprezentujący ramę.\n",
        "\n",
        "Rama powinna zawierać następujące sloty:\n",
        "- \"produkt\"\n",
        "- \"ocena\"\n",
        "- \"zalety\"\n",
        "- \"wady\"\n",
        "- \"rekomendacja\" (czy poleca produkt)\n",
        "\n",
        "Funkcja powinna analizować tekst pod kątem słów kluczowych i sentymentu wypowiedzi."
      ]
    },
    {
      "cell_type": "code",
      "execution_count": null,
      "metadata": {},
      "outputs": [],
      "source": [
        "import re\n",
        "from typing import Dict, List\n",
        "\n",
        "def extract_product_review_frame(text: str) -> Dict:\n",
        "    # Tutaj umieść swoje rozwiązanie\n",
        "    pass\n",
        "\n",
        "# Przykład użycia\n",
        "text = \"Kupiłem smartfon XYZ. Świetna jakość wykonania i długi czas pracy na baterii. \\\n",
        "       Niestety cena jest dość wysoka. Mimo to polecam ten produkt, wart swojej ceny.\"\n",
        "result = extract_product_review_frame(text)\n",
        "print(result)"
      ]
    },
    {
      "cell_type": "markdown",
      "metadata": {},
      "source": [
        "# Zadanie 4: Implementacja grafu rekomendacji\n",
        "\n",
        "Stwórz klasę `RecommendationGraph`, która będzie reprezentować graf rekomendacji produktów. Klasa powinna zawierać:\n",
        "\n",
        "1. `__init__()`: Inicjalizacja grafu\n",
        "2. `add_product(product, category)`: Dodawanie produktu z kategorią\n",
        "3. `add_relation(product1, relation_type, product2)`: Dodawanie relacji między produktami (np. \"często kupowane razem\")\n",
        "4. `get_recommendations(product)`: Zwracanie listy rekomendowanych produktów\n",
        "5. `display_related_products(product)`: Wyświetlanie powiązanych produktów"
      ]
    },
    {
      "cell_type": "code",
      "execution_count": null,
      "metadata": {},
      "outputs": [],
      "source": [
        "from typing import Dict, Set, List\n",
        "\n",
        "class RecommendationGraph:\n",
        "    def __init__(self):\n",
        "        # Tutaj umieść swoje rozwiązanie\n",
        "        pass\n",
        "    \n",
        "    def add_product(self, product: str, category: str) -> None:\n",
        "        # Tutaj umieść swoje rozwiązanie\n",
        "        pass\n",
        "    \n",
        "    def add_relation(self, product1: str, relation_type: str, product2: str) -> None:\n",
        "        # Tutaj umieść swoje rozwiązanie\n",
        "        pass\n",
        "    \n",
        "    def get_recommendations(self, product: str) -> List[str]:\n",
        "        # Tutaj umieść swoje rozwiązanie\n",
        "        pass\n",
        "    \n",
        "    def display_related_products(self, product: str) -> None:\n",
        "        # Tutaj umieść swoje rozwiązanie\n",
        "        pass\n",
        "\n",
        "# Przykład użycia\n",
        "graph = RecommendationGraph()\n",
        "graph.add_product(\"Smartfon XYZ\", \"Elektronika\")\n",
        "graph.add_product(\"Etui ochronne\", \"Akcesoria\")\n",
        "graph.add_relation(\"Smartfon XYZ\", \"często kupowane z\", \"Etui ochronne\")\n",
        "graph.display_related_products(\"Smartfon XYZ\")"
      ]
    },
    {
      "cell_type": "markdown",
      "metadata": {},
      "source": [
        "# Zadanie 5: Chatbot asystenta zakupowego\n",
        "\n",
        "Zaimplementuj klasę `ShoppingAssistantBot`, która będzie reprezentować chatbota pomagającego w zakupach. Bot powinien:\n",
        "\n",
        "1. Przeprowadzić wywiad z klientem o jego preferencjach\n",
        "2. Pomóc w wyborze produktu na podstawie kryteriów\n",
        "3. Odpowiadać na pytania o dostępność i specyfikację\n",
        "4. Sugerować produkty komplementarne\n",
        "\n",
        "Bot powinien utrzymywać kontekst rozmowy i dostosowywać odpowiedzi do wcześniejszych wyborów użytkownika."
      ]
    },
    {
      "cell_type": "code",
      "execution_count": null,
      "metadata": {},
      "outputs": [],
      "source": [
        "from typing import Dict, List, Optional\n",
        "\n",
        "class ShoppingAssistantBot:\n",
        "    def __init__(self):\n",
        "        self.conversation_state = {}\n",
        "        self.current_step = 'start'\n",
        "        self.user_preferences = {}\n",
        "    \n",
        "    def respond(self, user_input: str) -> str:\n",
        "        # Tutaj umieść swoje rozwiązanie\n",
        "        pass\n",
        "    \n",
        "    def get_product_recommendations(self) -> List[str]:\n",
        "        # Tutaj umieść swoje rozwiązanie\n",
        "        pass\n",
        "    \n",
        "    def process_preferences(self, user_input: str) -> None:\n",
        "        # Tutaj umieść swoje rozwiązanie\n",
        "        pass\n",
        "\n",
        "# Przykład użycia\n",
        "bot = ShoppingAssistantBot()\n",
        "print(bot.respond(\"\"))  # Start rozmowy\n",
        "print(bot.respond(\"Szukam smartfona\"))\n",
        "print(bot.respond(\"Budżet do 2000 zł\"))\n",
        "print(bot.respond(\"Zależy mi na dobrym aparacie\"))\n",
        "print(bot.respond(\"Pokaż rekomendacje\"))"
      ]
    }
  ],
  "metadata": {
    "language_info": {
      "name": "python"
    }
  },
  "nbformat": 4,
  "nbformat_minor": 4
}