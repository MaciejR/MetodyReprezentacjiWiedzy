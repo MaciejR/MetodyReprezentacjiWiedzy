{
 "cells": [
  {
   "cell_type": "markdown",
   "metadata": {},
   "source": [
    "# Zadanie 3: Analiza tekstu i wyodrębnianie ram\n",
    "\n",
    "Napisz funkcję `extract_clinic_visit_frame(text)`, która analizuje prosty tekst i wyodrębnia z niego ramę \"Wizyta w klinice\". Funkcja powinna zwracać słownik reprezentujący ramę.\n",
    "\n",
    "Rama powinna zawierać następujące sloty:\n",
    "- \"pacjent\"\n",
    "- \"recepcja\"\n",
    "- \"lekarz\"\n",
    "- \"leki\"\n",
    "\n",
    "Funkcja powinna sprawdzać, czy w tekście występują słowa kluczowe związane z każdym slotem i odpowiednio ustawiać ich wartości (np. \"Obecny\", \"Przepisane\" itp.).\n",
    "\n",
    "Wskazówka: Użyj modułu `re` do wyszukiwania słów kluczowych w tekście."
   ]
  },
  {
   "cell_type": "code",
   "execution_count": null,
   "metadata": {},
   "outputs": [],
   "source": [
    "import re\n",
    "\n",
    "def extract_clinic_visit_frame(text):\n",
    "    # Tutaj umieść swoje rozwiązanie\n",
    "    pass\n",
    "\n",
    "# Przykład użycia\n",
    "text = \"Pacjent wchodzi do kliniki, podaje swoje dane w recepcji, czeka na wezwanie do gabinetu i spotyka się z lekarzem. Po konsultacji udaje się do apteki po leki przepisane przez lekarza.\"\n",
    "result = extract_clinic_visit_frame(text)\n",
    "print(result)"
   ]
  },
  {
   "cell_type": "markdown",
   "metadata": {},
   "source": [
    "# Zadanie 4: Implementacja grafu powiązań\n",
    "\n",
    "Stwórz klasę `RelationGraph`, która będzie reprezentować graf powiązań. Klasa powinna zawierać następujące metody:\n",
    "\n",
    "1. `__init__()`: Inicjalizuje pusty graf.\n",
    "2. `add_node(node)`: Dodaje nowy węzeł do grafu.\n",
    "3. `add_edge(node1, relation, node2)`: Dodaje krawędź (relację) między dwoma węzłami.\n",
    "4. `display()`: Wyświetla wszystkie relacje w grafie.\n",
    "\n",
    "Użyj słownika Pythona do implementacji struktury grafu."
   ]
  },
  {
   "cell_type": "code",
   "execution_count": null,
   "metadata": {},
   "outputs": [],
   "source": [
    "class RelationGraph:\n",
    "    def __init__(self):\n",
    "        # Tutaj umieść swoje rozwiązanie\n",
    "        pass\n",
    "\n",
    "    def add_node(self, node):\n",
    "        # Tutaj umieść swoje rozwiązanie\n",
    "        pass\n",
    "\n",
    "    def add_edge(self, node1, relation, node2):\n",
    "        # Tutaj umieść swoje rozwiązanie\n",
    "        pass\n",
    "\n",
    "    def display(self):\n",
    "        # Tutaj umieść swoje rozwiązanie\n",
    "        pass\n",
    "\n",
    "# Przykład użycia\n",
    "graph = RelationGraph()\n",
    "graph.add_edge(\"pacjent\", \"spotyka się z\", \"lekarz\")\n",
    "graph.add_edge(\"lekarz\", \"przepisuje\", \"leki\")\n",
    "graph.display()"
   ]
  },
  {
   "cell_type": "markdown",
   "metadata": {},
   "source": [
    "# Zadanie 5: Chatbot oparty na skryptach\n",
    "\n",
    "Zaimplementuj klasę `RegistrationChatbot`, która będzie reprezentować prosty chatbot oparty na skryptach, obsługujący proces rejestracji pacjenta w klinice. Chatbot powinien przeprowadzić rozmowę z użytkownikiem, zbierając następujące informacje:\n",
    "\n",
    "1. Imię i nazwisko pacjenta\n",
    "2. Numer PESEL\n",
    "3. Datę wizyty\n",
    "\n",
    "Klasa powinna zawierać metodę `respond(user_input)`, która będzie obsługiwać interakcję z użytkownikiem."
   ]
  },
  {
   "cell_type": "code",
   "execution_count": null,
   "metadata": {},
   "outputs": [],
   "source": [
    "class RegistrationChatbot:\n",
    "    def __init__(self):\n",
    "        # Tutaj umieść swoje rozwiązanie\n",
    "        pass\n",
    "\n",
    "    def respond(self, user_input):\n",
    "        # Tutaj umieść swoje rozwiązanie\n",
    "        pass\n",
    "\n",
    "# Przykład użycia\n",
    "chatbot = RegistrationChatbot()\n",
    "print(chatbot.respond(\"\"))  # Rozpoczęcie rozmowy\n",
    "print(chatbot.respond(\"Jan Kowalski\"))\n",
    "print(chatbot.respond(\"12345678901\"))\n",
    "print(chatbot.respond(\"01-12-2024\"))\n",
    "print(chatbot.respond(\"\"))  # Zakończenie rozmowy"
   ]
  }
 ],
 "metadata": {
  "kernelspec": {
   "display_name": "Python 3",
   "language": "python",
   "name": "python3"
  },
  "language_info": {
   "codemirror_mode": {
    "name": "ipython",
    "version": 3
   },
   "file_extension": ".py",
   "mimetype": "text/x-python",
   "name": "python",
   "nbconvert_exporter": "python",
   "pygments_lexer": "ipython3",
   "version": "3.8.5"
  }
 },
 "nbformat": 4,
 "nbformat_minor": 4
}