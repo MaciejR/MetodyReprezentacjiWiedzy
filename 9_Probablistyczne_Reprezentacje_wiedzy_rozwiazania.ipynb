{
 "cells": [
  {
   "cell_type": "markdown",
   "metadata": {},
   "source": [
    "# Rozwiązania zadań z reprezentacji probabilistycznej wiedzy"
   ]
  },
  {
   "cell_type": "code",
   "execution_count": null,
   "metadata": {},
   "outputs": [],
   "source": [
    "import numpy as np\n",
    "import networkx as nx\n",
    "import matplotlib.pyplot as plt"
   ]
  },
  {
   "cell_type": "markdown",
   "metadata": {},
   "source": [
    "## Zadanie 1: Implementacja prostego klasyfikatora Bayesowskiego"
   ]
  },
  {
   "cell_type": "code",
   "execution_count": null,
   "metadata": {},
   "outputs": [],
   "source": [
    "def naive_bayes_classifier(X_train, y_train, X_test):\n",
    "    classes, class_counts = np.unique(y_train, return_counts=True)\n",
    "    class_probs = class_counts / len(y_train)\n",
    "    \n",
    "    feature_probs = {}\n",
    "    for c in classes:\n",
    "        feature_probs[c] = np.mean(X_train[y_train == c], axis=0)\n",
    "    \n",
    "    predictions = []\n",
    "    for sample in X_test:\n",
    "        probs = []\n",
    "        for c, cp in zip(classes, class_probs):\n",
    "            prob = cp * np.prod(feature_probs[c] ** sample * (1 - feature_probs[c]) ** (1 - sample))\n",
    "            probs.append(prob)\n",
    "        predictions.append(classes[np.argmax(probs)])\n",
    "    \n",
    "    return predictions\n",
    "\n",
    "# Przykładowe użycie\n",
    "X_train = np.array([[1, 1, 0], [1, 0, 1], [0, 1, 1], [0, 0, 0]])\n",
    "y_train = np.array([1, 1, 0, 0])\n",
    "X_test = np.array([[1, 0, 0], [0, 1, 0]])\n",
    "\n",
    "predictions = naive_bayes_classifier(X_train, y_train, X_test)\n",
    "print(\"Zadanie 1 - Przewidywane klasy:\", predictions)"
   ]
  },
  {
   "cell_type": "markdown",
   "metadata": {},
   "source": [
    "## Zadanie 2: Implementacja prostej sieci Bayesowskiej"
   ]
  },
  {
   "cell_type": "code",
   "execution_count": null,
   "metadata": {},
   "outputs": [],
   "source": [
    "class BayesianNetwork:\n",
    "    def __init__(self):\n",
    "        self.graph = nx.DiGraph()\n",
    "        self.cpt = {}  # Conditional Probability Tables\n",
    "\n",
    "    def add_node(self, node):\n",
    "        self.graph.add_node(node)\n",
    "\n",
    "    def add_edge(self, parent, child):\n",
    "        self.graph.add_edge(parent, child)\n",
    "\n",
    "    def set_cpt(self, node, cpt):\n",
    "        self.cpt[node] = cpt\n",
    "\n",
    "    def plot(self):\n",
    "        pos = nx.spring_layout(self.graph)\n",
    "        nx.draw(self.graph, pos, with_labels=True, node_color='lightblue', \n",
    "                node_size=500, font_size=10, font_weight='bold')\n",
    "        plt.title(\"Sieć Bayesowska\")\n",
    "        plt.show()\n",
    "\n",
    "# Przykładowe użycie\n",
    "bn = BayesianNetwork()\n",
    "\n",
    "bn.add_node(\"Deszcz\")\n",
    "bn.add_node(\"Trawa mokra\")\n",
    "bn.add_node(\"Zraszacz\")\n",
    "\n",
    "bn.add_edge(\"Deszcz\", \"Trawa mokra\")\n",
    "bn.add_edge(\"Zraszacz\", \"Trawa mokra\")\n",
    "\n",
    "bn.set_cpt(\"Deszcz\", {\"True\": 0.2, \"False\": 0.8})\n",
    "bn.set_cpt(\"Zraszacz\", {\"True\": 0.1, \"False\": 0.9})\n",
    "bn.set_cpt(\"Trawa mokra\", {\n",
    "    (\"True\", \"True\"): 0.99,\n",
    "    (\"True\", \"False\"): 0.9,\n",
    "    (\"False\", \"True\"): 0.9,\n",
    "    (\"False\", \"False\"): 0.0\n",
    "})\n",
    "\n",
    "print(\"Zadanie 2 - Wizualizacja sieci Bayesowskiej:\")\n",
    "bn.plot()"
   ]
  },
  {
   "cell_type": "markdown",
   "metadata": {},
   "source": [
    "## Zadanie 3: Symulacja łańcucha Markowa"
   ]
  },
  {
   "cell_type": "code",
   "execution_count": null,
   "metadata": {},
   "outputs": [],
   "source": [
    "def markov_chain_simulation(transition_matrix, initial_state, num_steps):\n",
    "    states = [initial_state]\n",
    "    current_state = initial_state\n",
    "    \n",
    "    for _ in range(num_steps):\n",
    "        next_state = np.random.choice(len(transition_matrix), \n",
    "                                     p=transition_matrix[current_state])\n",
    "        states.append(next_state)\n",
    "        current_state = next_state\n",
    "    \n",
    "    return states\n",
    "\n",
    "# Przykładowa macierz przejścia\n",
    "transition_matrix = np.array([\n",
    "    [0.7, 0.2, 0.1],  # słonecznie\n",
    "    [0.3, 0.4, 0.3],  # pochmurno\n",
    "    [0.2, 0.3, 0.5]   # deszczowo\n",
    "])\n",
    "\n",
    "initial_state = 0  # Zaczynamy od słonecznej pogody\n",
    "num_steps = 100\n",
    "\n",
    "states = markov_chain_simulation(transition_matrix, initial_state, num_steps)\n",
    "\n",
    "# Wizualizacja wyników\n",
    "plt.figure(figsize=(12, 6))\n",
    "plt.plot(states)\n",
    "plt.yticks([0, 1, 2], ['Słonecznie', 'Pochmurno', 'Deszczowo'])\n",
    "plt.xlabel('Krok')\n",
    "plt.ylabel('Stan pogody')\n",
    "plt.title('Symulacja łańcucha Markowa dla prognozy pogody')\n",
    "plt.show()\n",
    "\n",
    "print(\"Zadanie 3 - Symulacja łańcucha Markowa została zwizualizowana.\")"
   ]
  }
 ],
 "metadata": {
  "kernelspec": {
   "display_name": "Python 3",
   "language": "python",
   "name": "python3"
  },
  "language_info": {
   "codemirror_mode": {
    "name": "ipython",
    "version": 3
   },
   "file_extension": ".py",
   "mimetype": "text/x-python",
   "name": "python",
   "nbconvert_exporter": "python",
   "pygments_lexer": "ipython3",
   "version": "3.8.5"
  }
 },
 "nbformat": 4,
 "nbformat_minor": 4
}