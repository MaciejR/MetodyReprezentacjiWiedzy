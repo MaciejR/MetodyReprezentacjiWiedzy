{
 "cells": [
  {
   "cell_type": "markdown",
   "metadata": {},
   "source": [
    "# Zadanie: Probabilistyczny system rekomendacji filmów\n",
    "\n",
    "Celem zadania jest stworzenie prostego systemu rekomendacji filmów opartego na modelu probabilistycznym. System ma przewidywać prawdopodobieństwo zainteresowania użytkownika filmem z określonego gatunku na podstawie jego historii oglądania.\n",
    "\n",
    "## Dane wejściowe:\n",
    "1. Historia oglądania użytkownika (ostatnie 10 obejrzanych filmów) z przypisanymi gatunkami.\n",
    "2. Baza danych filmów z przypisanymi gatunkami.\n",
    "\n",
    "## Kroki do wykonania:\n",
    "\n",
    "1. Oblicz rozkład prawdopodobieństwa gatunków na podstawie historii oglądania użytkownika.\n",
    "2. Dla każdego filmu w bazie danych, oblicz prawdopodobieństwo zainteresowania użytkownika tym filmem, biorąc pod uwagę:\n",
    "   - Prawdopodobieństwo wyboru gatunku filmu przez użytkownika (na podstawie historii)\n",
    "   - Prawdopodobieństwo, że film należy do danego gatunku (może być przypisany do więcej niż jednego gatunku)\n",
    "3. Uszereguj filmy według obliczonego prawdopodobieństwa zainteresowania.\n",
    "4. Zaproponuj top 5 rekomendacji dla użytkownika."
   ]
  },
  {
   "cell_type": "code",
   "execution_count": null,
   "metadata": {},
   "outputs": [],
   "source": [
    "import random\n",
    "\n",
    "# Symulacja danych\n",
    "user_history = [\n",
    "    (\"Interstellar\", [\"Sci-Fi\", \"Adventure\"]),\n",
    "    (\"The Matrix\", [\"Sci-Fi\", \"Action\"]),\n",
    "    (\"Inception\", [\"Sci-Fi\", \"Thriller\"]),\n",
    "    (\"The Godfather\", [\"Crime\", \"Drama\"]),\n",
    "    (\"Pulp Fiction\", [\"Crime\", \"Drama\"]),\n",
    "    (\"Star Wars\", [\"Sci-Fi\", \"Adventure\"]),\n",
    "    (\"Jurassic Park\", [\"Sci-Fi\", \"Adventure\"]),\n",
    "    (\"The Shawshank Redemption\", [\"Drama\"]),\n",
    "    (\"Forrest Gump\", [\"Drama\", \"Romance\"]),\n",
    "    (\"The Dark Knight\", [\"Action\", \"Crime\"])\n",
    "]\n",
    "\n",
    "movie_database = [\n",
    "    (\"Avatar\", [\"Sci-Fi\", \"Adventure\"]),\n",
    "    (\"The Terminator\", [\"Sci-Fi\", \"Action\"]),\n",
    "    (\"Gravity\", [\"Sci-Fi\", \"Thriller\"]),\n",
    "    (\"The Silence of the Lambs\", [\"Crime\", \"Thriller\"]),\n",
    "    (\"Titanic\", [\"Romance\", \"Drama\"]),\n",
    "    # Dodaj więcej filmów...\n",
    "]"
   ]
  },
  {
   "cell_type": "markdown",
   "metadata": {},
   "source": [
    "## Zaimplementuj poniższe funkcje"
   ]
  },
  {
   "cell_type": "code",
   "execution_count": null,
   "metadata": {},
   "outputs": [],
   "source": [
    "def calculate_genre_distribution(user_history):\n",
    "    # Oblicz rozkład prawdopodobieństwa gatunków na podstawie historii użytkownika\n",
    "    pass\n",
    "\n",
    "def calculate_movie_probability(movie, genre_distribution):\n",
    "    # Oblicz prawdopodobieństwo zainteresowania użytkownika danym filmem\n",
    "    pass\n",
    "\n",
    "def recommend_movies(user_history, movie_database, top_n=5):\n",
    "    # Główna funkcja rekomendująca filmy\n",
    "    genre_distribution = calculate_genre_distribution(user_history)\n",
    "    movie_probabilities = [(movie, calculate_movie_probability(movie, genre_distribution)) \n",
    "                           for movie in movie_database]\n",
    "    \n",
    "    # Sortuj filmy według prawdopodobieństwa i zwróć top N rekomendacji\n",
    "    return sorted(movie_probabilities, key=lambda x: x[1], reverse=True)[:top_n]"
   ]
  },
  {
   "cell_type": "markdown",
   "metadata": {},
   "source": [
    "## Przykład użycia"
   ]
  },
  {
   "cell_type": "code",
   "execution_count": null,
   "metadata": {},
   "outputs": [],
   "source": [
    "recommendations = recommend_movies(user_history, movie_database)\n",
    "print(\"Top 5 rekomendacji:\")\n",
    "for movie, probability in recommendations:\n",
    "    print(f\"{movie[0]}: {probability:.2f}\")"
   ]
  }
 ],
 "metadata": {
  "kernelspec": {
   "display_name": "Python 3",
   "language": "python",
   "name": "python3"
  },
  "language_info": {
   "codemirror_mode": {
    "name": "ipython",
    "version": 3
   },
   "file_extension": ".py",
   "mimetype": "text/x-python",
   "name": "python",
   "nbconvert_exporter": "python",
   "pygments_lexer": "ipython3",
   "version": "3.8.5"
  }
 },
 "nbformat": 4,
 "nbformat_minor": 4
}
